{
 "cells": [
  {
   "cell_type": "code",
   "execution_count": 12,
   "id": "ee9f5003-fc7b-4534-baf4-8403497dc6b3",
   "metadata": {},
   "outputs": [
    {
     "name": "stdout",
     "output_type": "stream",
     "text": [
      "addtion is- 30\n"
     ]
    }
   ],
   "source": [
    "# lambda function to add two numbers\n",
    "add=lambda a,b:(a+b)\n",
    "#add=add(10,20)\n",
    "print(\"addtion is-\",add(10,20))"
   ]
  },
  {
   "cell_type": "code",
   "execution_count": 8,
   "id": "a056e34c-bd05-41d7-ac87-02a65cb7c37d",
   "metadata": {},
   "outputs": [
    {
     "name": "stdout",
     "output_type": "stream",
     "text": [
      "('even', <function <lambda> at 0x000001CACA47D080>)\n"
     ]
    }
   ],
   "source": [
    "# lambda function to check even odd\n",
    "num=lambda n:(\"even\" if n%2==0 else \"odd\",num)\n",
    "print(num(10))"
   ]
  },
  {
   "cell_type": "code",
   "execution_count": 12,
   "id": "bcbff0a3-79f1-43fc-868b-40f0eb70ec4a",
   "metadata": {},
   "outputs": [
    {
     "name": "stdout",
     "output_type": "stream",
     "text": [
      "('Square', 4)\n"
     ]
    }
   ],
   "source": [
    "# lambda function to calculate square of numbers\n",
    "sqr=lambda x:('Square',x*x)\n",
    "print(sqr(2))"
   ]
  },
  {
   "cell_type": "code",
   "execution_count": 6,
   "id": "d8710347-991b-4054-8c4f-8c831b276290",
   "metadata": {},
   "outputs": [
    {
     "name": "stdout",
     "output_type": "stream",
     "text": [
      "('a is greater than b ', True)\n"
     ]
    }
   ],
   "source": [
    "# lambda function to find maximum of 2 numbers\n",
    "max=lambda a,b:(\"a is greater than b \",a>b)\n",
    "print(max(3,2))"
   ]
  },
  {
   "cell_type": "code",
   "execution_count": 5,
   "id": "a392223e-28fb-4f3c-9fe2-16105e02596e",
   "metadata": {},
   "outputs": [],
   "source": [
    "# lambda function to calculate length of a string\n"
   ]
  },
  {
   "cell_type": "code",
   "execution_count": 13,
   "id": "b88efa9a-df0e-419f-b2c9-e08123f783c5",
   "metadata": {},
   "outputs": [
    {
     "name": "stdout",
     "output_type": "stream",
     "text": [
      "(89.6, <function <lambda> at 0x000001CACA5074C0>)\n"
     ]
    }
   ],
   "source": [
    "# lambda function to convert C-F\n",
    "c2f=lambda c:(c*9/5+32,c2f)\n",
    "print(c2f(32))"
   ]
  },
  {
   "cell_type": "code",
   "execution_count": 14,
   "id": "18d90382-409f-4557-ae1f-3a19b95ab251",
   "metadata": {},
   "outputs": [
    {
     "ename": "SyntaxError",
     "evalue": "expected 'else' after 'if' expression (2342770410.py, line 3)",
     "output_type": "error",
     "traceback": [
      "\u001b[1;36m  Cell \u001b[1;32mIn[14], line 3\u001b[1;36m\u001b[0m\n\u001b[1;33m    pali=lambda str:(\"palindrome \" if str=str[::-1] else \"not palindrome\",pali)\u001b[0m\n\u001b[1;37m                     ^\u001b[0m\n\u001b[1;31mSyntaxError\u001b[0m\u001b[1;31m:\u001b[0m expected 'else' after 'if' expression\n"
     ]
    }
   ],
   "source": [
    "# lambda function to check if string is palindrome\n",
    "\n",
    "pali=lambda str:(\"palindrome \" if str=str[::-1] else \"not palindrome\",pali)\n",
    "print(pali(\"abc\"))\n"
   ]
  },
  {
   "cell_type": "code",
   "execution_count": null,
   "id": "dcf55c6c-7175-4da3-94c8-c800e2c76064",
   "metadata": {},
   "outputs": [],
   "source": [
    "# Python code for cube of a number\n",
    "# Using def keyword\n",
    "def cube(c):\n",
    "\treturn c*c*c\n",
    "\n",
    "# Using lambda keyword\n",
    "l_cube = lambda c: c*c*c\n",
    "\n",
    "# using a normally defined function\n",
    "print(cube(6))\n",
    "\n",
    "# using the lambda function\n",
    "print(lambda_cube(6))"
   ]
  }
 ],
 "metadata": {
  "kernelspec": {
   "display_name": "Python 3 (ipykernel)",
   "language": "python",
   "name": "python3"
  },
  "language_info": {
   "codemirror_mode": {
    "name": "ipython",
    "version": 3
   },
   "file_extension": ".py",
   "mimetype": "text/x-python",
   "name": "python",
   "nbconvert_exporter": "python",
   "pygments_lexer": "ipython3",
   "version": "3.11.7"
  }
 },
 "nbformat": 4,
 "nbformat_minor": 5
}
