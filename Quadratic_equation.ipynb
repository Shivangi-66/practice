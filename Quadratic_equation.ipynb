{
 "cells": [
  {
   "cell_type": "code",
   "execution_count": 3,
   "id": "3d26a331-c1e1-4281-83eb-2afe7217d949",
   "metadata": {},
   "outputs": [
    {
     "name": "stdin",
     "output_type": "stream",
     "text": [
      "Enter value of a- 4\n",
      "Enter value of b- 2\n",
      "Enter value of c- 2\n"
     ]
    },
    {
     "name": "stdout",
     "output_type": "stream",
     "text": [
      "The roots are (-0.25-0.6614378277661477j) and (-0.25+0.6614378277661477j)\n"
     ]
    }
   ],
   "source": [
    "\"\"\"\n",
    "Quadratic Equation - ax**2+bx+c\n",
    "where a,b,c are real no.\n",
    "and a!=0\n",
    "\"\"\"\n",
    "\n",
    "import cmath\n",
    "a=int(input(\"Enter value of a-\"))\n",
    "b=int(input(\"Enter value of b-\"))\n",
    "c=int(input(\"Enter value of c-\"))\n",
    "\n",
    "#formula of discriminant\n",
    "d=(b**2)-4*a*c\n",
    "\n",
    "root1=(-b-cmath.sqrt(d))/(2*a)\n",
    "root2=(-b+cmath.sqrt(d))/(2*a)\n",
    "\n",
    "print(\"The roots are\",root1,\"and\",root2)"
   ]
  },
  {
   "cell_type": "code",
   "execution_count": null,
   "id": "d152d4e8-7e19-40cd-a4a7-325712ae8eaf",
   "metadata": {},
   "outputs": [],
   "source": []
  }
 ],
 "metadata": {
  "kernelspec": {
   "display_name": "Python 3 (ipykernel)",
   "language": "python",
   "name": "python3"
  },
  "language_info": {
   "codemirror_mode": {
    "name": "ipython",
    "version": 3
   },
   "file_extension": ".py",
   "mimetype": "text/x-python",
   "name": "python",
   "nbconvert_exporter": "python",
   "pygments_lexer": "ipython3",
   "version": "3.11.7"
  }
 },
 "nbformat": 4,
 "nbformat_minor": 5
}
