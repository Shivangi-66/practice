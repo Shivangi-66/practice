{
 "cells": [
  {
   "cell_type": "code",
   "execution_count": 13,
   "id": "cc57b7e2-c0f8-4f25-9454-d602ab8ef882",
   "metadata": {},
   "outputs": [
    {
     "name": "stdout",
     "output_type": "stream",
     "text": [
      "12\n",
      "abc\n",
      "58.03\n",
      "list\n"
     ]
    }
   ],
   "source": [
    "#Write a Python program to create a list and access its elements individually.\n",
    "#Print each element on a new line.\n",
    "\n",
    "list=[12,'abc',58.03,\"list\"]\n",
    "for i in (list):\n",
    "    print(i)"
   ]
  },
  {
   "cell_type": "code",
   "execution_count": 14,
   "id": "e7fa2e0d-5e85-49dc-9237-f024333f5e1f",
   "metadata": {},
   "outputs": [
    {
     "name": "stdout",
     "output_type": "stream",
     "text": [
      "concatenated list- [1, 'abc', 52.0, 2, 'xyz']\n"
     ]
    }
   ],
   "source": [
    "# to concatenate 2 string and print the result\n",
    "l1=[1,'abc',52.00]\n",
    "l2=[2,'xyz']\n",
    "result=l1+l2\n",
    "print(\"concatenated list-\",result)"
   ]
  },
  {
   "cell_type": "code",
   "execution_count": 15,
   "id": "5672748d-4fdd-48db-b1e7-725f5bae2f4f",
   "metadata": {},
   "outputs": [
    {
     "name": "stdout",
     "output_type": "stream",
     "text": [
      "Repeated list [1, 'aa', 50.32, 1, 'aa', 50.32, 1, 'aa', 50.32]\n"
     ]
    }
   ],
   "source": [
    "# to repeate elements of list three times\n",
    "l1=[1,'aa',50.32]\n",
    "print(\"Repeated list\",l1*3)"
   ]
  },
  {
   "cell_type": "code",
   "execution_count": 22,
   "id": "7f863325-55b4-4929-88a6-0265e71d6222",
   "metadata": {},
   "outputs": [
    {
     "name": "stdout",
     "output_type": "stream",
     "text": [
      "@ is present in the list.\n",
      "1 is not present in the list\n",
      "# is not present in the list\n"
     ]
    }
   ],
   "source": [
    "# to check if a specific element is present in the list\n",
    "#------using 'in'-------\n",
    "list=[12,'aa',40.23,'@']\n",
    "ele='@'\n",
    "if ele in list:\n",
    "    print(f\"{ele} is present in the list.\")\n",
    "else:\n",
    "    print(f\"{ele} is not present in the list\")\n",
    "\n",
    "#-----------using count----------\n",
    "list=[12,'aa',40.23,'@']\n",
    "ele='1'\n",
    "if list.count(ele)>0:\n",
    "    print(f\"{ele} is present in the list\")\n",
    "else:\n",
    "    print(f\"{ele} is not present in the list\")\n",
    "#count- it counts the occurance of element in list if the count is greater than 0 than teh element exist\n",
    "    \n",
    "\n",
    "#------using for-------\n",
    "list=[12,'aa',40.23,'@']\n",
    "ele='#'\n",
    "found=False\n",
    "\n",
    "for i in list:\n",
    "    if i==ele:\n",
    "        found=True\n",
    "        break\n",
    "if found:\n",
    "    print(f\"{ele} is present in the list\")\n",
    "else:\n",
    "    print(f\"{ele} is not present in the list\")"
   ]
  },
  {
   "cell_type": "code",
   "execution_count": null,
   "id": "9a20d9ae-0a57-4009-9252-dc1942c1b2d9",
   "metadata": {},
   "outputs": [],
   "source": [
    "# "
   ]
  }
 ],
 "metadata": {
  "kernelspec": {
   "display_name": "Python 3 (ipykernel)",
   "language": "python",
   "name": "python3"
  },
  "language_info": {
   "codemirror_mode": {
    "name": "ipython",
    "version": 3
   },
   "file_extension": ".py",
   "mimetype": "text/x-python",
   "name": "python",
   "nbconvert_exporter": "python",
   "pygments_lexer": "ipython3",
   "version": "3.11.7"
  }
 },
 "nbformat": 4,
 "nbformat_minor": 5
}
