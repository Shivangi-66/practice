{
 "cells": [
  {
   "cell_type": "code",
   "execution_count": 5,
   "id": "2a2701d2-34ac-469b-8dcd-10791b89a048",
   "metadata": {},
   "outputs": [
    {
     "name": "stdin",
     "output_type": "stream",
     "text": [
      "Enter 1st number- 12\n",
      "Enter 2nd number- 23\n"
     ]
    },
    {
     "name": "stdout",
     "output_type": "stream",
     "text": [
      "Addition of numbers is - 35\n"
     ]
    }
   ],
   "source": [
    "#function to add two numbers\n",
    "def add():\n",
    "    a=int(input(\"Enter 1st number-\"))\n",
    "    b=int(input(\"Enter 2nd number-\"))\n",
    "    c=a+b\n",
    "    print(\"Addition of numbers is -\",c)\n",
    "add()"
   ]
  },
  {
   "cell_type": "code",
   "execution_count": 7,
   "id": "bdd9c041-1c0f-4ae7-ba28-d053ef7cbcb6",
   "metadata": {},
   "outputs": [
    {
     "name": "stdin",
     "output_type": "stream",
     "text": [
      "Enter any integerr value- 12\n"
     ]
    },
    {
     "name": "stdout",
     "output_type": "stream",
     "text": [
      "The number is even\n"
     ]
    }
   ],
   "source": [
    "# function to finad odd even \n",
    "def even_odd():\n",
    "    n=int(input(\"Enter any integerr value-\"))\n",
    "    if n%2==0:\n",
    "        print(\"The number is even\")\n",
    "    else:\n",
    "        print(\"The number is odd\")\n",
    "even_odd()\n",
    "    "
   ]
  },
  {
   "cell_type": "code",
   "execution_count": 44,
   "id": "3dd2e81f-c24a-4fe2-845a-a5da7dcac7d6",
   "metadata": {},
   "outputs": [
    {
     "name": "stdin",
     "output_type": "stream",
     "text": [
      "Enter any integer number- 3\n"
     ]
    },
    {
     "name": "stdout",
     "output_type": "stream",
     "text": [
      "6\n"
     ]
    },
    {
     "name": "stdin",
     "output_type": "stream",
     "text": [
      "Enter any integer number- 3\n"
     ]
    },
    {
     "name": "stdout",
     "output_type": "stream",
     "text": [
      "factorial is- 6\n"
     ]
    }
   ],
   "source": [
    "#n! = n* (n-1) * (n-2) *........1  ...........4! = 4x3x2x1 = 24    \n",
    "#using user-defined function\n",
    "def factorial():\n",
    "    n=int(input(\"Enter any integer number-\"))\n",
    "    fact=1\n",
    "    for i in range(1,n+1):\n",
    "        fact=fact*i\n",
    "    print(fact)\n",
    "factorial()\n",
    "\n",
    "\n",
    "#using if-else\n",
    "a=int(input(\"Enter any integer number-\"))\n",
    "fact1=1\n",
    "if a<0:\n",
    "    print(\"factorial is 1\")\n",
    "elif a==0:\n",
    "    print(\"factorial is 1\")\n",
    "else:\n",
    "    for i in range(1,a+1):\n",
    "        fact1=fact1*i\n",
    "print(\"factorial is-\",fact1)\n",
    "\n"
   ]
  },
  {
   "cell_type": "code",
   "execution_count": 32,
   "id": "837b5f6b-e84d-4e63-8e65-276405cfd5c8",
   "metadata": {},
   "outputs": [
    {
     "name": "stdout",
     "output_type": "stream",
     "text": [
      "Maximum of 3 numbers is- 52\n"
     ]
    }
   ],
   "source": [
    "# funtion to find maximum among three numbers\n",
    "def max(a,b,c):\n",
    "    if a>b and b>c:\n",
    "        largest=a\n",
    "    elif b>a and b>c:\n",
    "        largest=b\n",
    "    else:\n",
    "        largest=c\n",
    "    return largest\n",
    "a=12\n",
    "b=52\n",
    "c=11\n",
    "maximum=max(a,b,c)\n",
    "print(\"Maximum of 3 numbers is-\",maximum)"
   ]
  },
  {
   "cell_type": "code",
   "execution_count": 36,
   "id": "f8b67750-e5b5-4b30-9973-91c6f5c18a76",
   "metadata": {},
   "outputs": [
    {
     "name": "stdin",
     "output_type": "stream",
     "text": [
      "Enter the range which u want to print 14\n"
     ]
    },
    {
     "name": "stdout",
     "output_type": "stream",
     "text": [
      "0\n",
      "1\n",
      "1\n",
      "2\n",
      "3\n",
      "5\n",
      "8\n",
      "13\n",
      "21\n",
      "34\n",
      "55\n",
      "89\n",
      "144\n",
      "233\n",
      "None\n"
     ]
    }
   ],
   "source": [
    "# fibonacci series--0,1,1,2....\n",
    "def fib(n):\n",
    "    a=0        #first value \n",
    "    b=1        #second value\n",
    "\n",
    "    if n==1:   # if user want only one value to be printed than only a will be printed\n",
    "        print(a)\n",
    "    else:\n",
    "        print(a) # when user want more than one value to be printed\n",
    "        print(b)\n",
    "        for i in range(2,n):\n",
    "            c=a+b\n",
    "            a=b\n",
    "            b=c\n",
    "            print(c)\n",
    "x=int(input(\"Enter the range which u want to print\"))\n",
    "print(fib(x))"
   ]
  },
  {
   "cell_type": "code",
   "execution_count": 37,
   "id": "b93c4424-51c7-4f56-ac95-b0fcfdf532c7",
   "metadata": {},
   "outputs": [],
   "source": [
    
   ]
  },
  {
   "cell_type": "code",
   "execution_count": 43,
   "id": "7ab77e0b-fb1c-4645-9cf8-769b92685d35",
   "metadata": {},
   "outputs": [
    {
     "name": "stdin",
     "output_type": "stream",
     "text": [
      "enter any string this is py\n"
     ]
    },
    {
     "name": "stdout",
     "output_type": "stream",
     "text": [
      "original string this is py\n",
      "reversed string yp si siht\n"
     ]
    }
   ],
   "source": [
    "# reverse string\n",
    "str=input(\"enter any string\")\n",
    "def rev(str):\n",
    "    str=str[::-1]\n",
    "    return str\n",
    "print(\"original string\",str)\n",
    "print(\"reversed string\",rev(str))\n",
    "    "
   ]
  },
  {
   "cell_type": "code",
   "execution_count": 8,
   "id": "20c9b107-ea2f-4673-b127-0d842de87394",
   "metadata": {},
   "outputs": [
    {
     "name": "stdin",
     "output_type": "stream",
     "text": [
      " 12\n",
      " 53.6\n"
     ]
    },
    {
     "data": {
      "text/plain": [
       "12.0"
      ]
     },
     "execution_count": 8,
     "metadata": {},
     "output_type": "execute_result"
    }
   ],
   "source": [
    "# funtion to convert celsius to fahrenheit\n",
    "def c2f():\n",
    "   c=int(input())\n",
    "   return (c*9/5)+32\n",
    "c2f()\n",
    "\n",
    "# f to c\n",
    "def f2c():\n",
    "    f=float(input())\n",
    "    return (f-32)*5/9\n",
    "f2c()"
   ]
  },
  {
   "cell_type": "code",
   "execution_count": 12,
   "id": "bf387dec-bb1b-4723-9c2d-e745a0666651",
   "metadata": {},
   "outputs": [
    {
     "name": "stdin",
     "output_type": "stream",
     "text": [
      " namam\n"
     ]
    },
    {
     "name": "stdout",
     "output_type": "stream",
     "text": [
      "not palindrome\n"
     ]
    }
   ],
   "source": [
    "#function to check if string is palindrome\n",
    "str=input()\n",
    "def palindrome():\n",
    "    if str==str[::-1]:\n",
    "        print(\"palindrome\")\n",
    "    else:\n",
    "        print(\"not palindrome\")\n",
    "palindrome()\n",
    "    "
   ]
  },
  {
   "cell_type": "code",
   "execution_count": null,
   "id": "8d651465-7972-4822-b087-de41b0446a42",
   "metadata": {},
   "outputs": [],
   "source": [
    
   ]
  }
 ],
 "metadata": {
  "kernelspec": {
   "display_name": "Python 3 (ipykernel)",
   "language": "python",
   "name": "python3"
  },
  "language_info": {
   "codemirror_mode": {
    "name": "ipython",
    "version": 3
   },
   "file_extension": ".py",
   "mimetype": "text/x-python",
   "name": "python",
   "nbconvert_exporter": "python",
   "pygments_lexer": "ipython3",
   "version": "3.11.7"
  }
 },
 "nbformat": 4,
 "nbformat_minor": 5
}
