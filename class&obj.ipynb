{
 "cells": [
  {
   "cell_type": "code",
   "execution_count": 4,
   "id": "2d9ef17b-c5fa-4b30-a205-76cf8d6100a8",
   "metadata": {},
   "outputs": [
    {
     "name": "stdout",
     "output_type": "stream",
     "text": [
      "shubhi 97\n",
      "shreya 98\n",
      "ABC college\n",
      "shubhi\n",
      "ABC college\n"
     ]
    }
   ],
   "source": [
    "class Student():\n",
    "    college_name=\"ABC college\"\n",
    "    def __init__(self,name,marks):\n",
    "        self.name=name\n",
    "        self.marks=marks\n",
    "s1=Student(\"shubhi\",97)\n",
    "print(s1.name,s1.marks)\n",
    "s2=Student(\"shreya\",98)\n",
    "print(s2.name,s2.marks)\n",
    "print(Student.college_name)\n",
    "print(s1.name)\n",
    "print(s1.college_name)"
   ]
  },
  {
   "cell_type": "code",
   "execution_count": 6,
   "id": "a745c43e-bb0b-42b2-bf84-64bd786390c2",
   "metadata": {},
   "outputs": [
    {
     "name": "stdout",
     "output_type": "stream",
     "text": [
      "Toyota Corolla\n"
     ]
    }
   ],
   "source": [
    "class Car():\n",
    "    def __init__(self,make,model):\n",
    "        self.make=make\n",
    "        self.model=model\n",
    "c1=Car(\"Toyota\",\"Corolla\")\n",
    "print(c1.make,c1.model)"
   ]
  },
  {
   "cell_type": "code",
   "execution_count": 18,
   "id": "772a69fe-6af8-4a16-9d12-6d91d4e64d39",
   "metadata": {},
   "outputs": [
    {
     "name": "stdout",
     "output_type": "stream",
     "text": [
      "Area of circle is- 78.5\n"
     ]
    }
   ],
   "source": [
    "class circle():\n",
    "    def __init__(self,radius):\n",
    "        self.radius=radius\n",
    "    def area(self,radius):\n",
    "        return 3.14*radius*radius\n",
    "c1=circle(5)\n",
    "print(\"Area of circle is-\",c1.area(5))"
   ]
  },
  {
   "cell_type": "code",
   "execution_count": 23,
   "id": "e477ab6c-9abf-4c66-9330-52230b64ee86",
   "metadata": {},
   "outputs": [
    {
     "name": "stdout",
     "output_type": "stream",
     "text": [
      "Area of rectangle is- 20\n",
      "Perimeter of rectangle is- 18\n"
     ]
    }
   ],
   "source": [
    "class rectangle():\n",
    "    def __init__(self,l,w):\n",
    "        self.length=l\n",
    "        self.width=w\n",
    "    def area(self,l,w):\n",
    "        return l*w\n",
    "    def perimeter(self,l,w):\n",
    "        return 2*(l+w)\n",
    "r1=rectangle(2,3)\n",
    "print(\"Area of rectangle is-\",r1.area(4,5))\n",
    "print(\"Perimeter of rectangle is-\",r1.perimeter(4,5))"
   ]
  },
  {
   "cell_type": "code",
   "execution_count": 39,
   "id": "d28c1ad5-452b-446b-a66d-f43aac2401e9",
   "metadata": {},
   "outputs": [
    {
     "name": "stdout",
     "output_type": "stream",
     "text": [
      "Name- John Doe\n",
      "Salary- 50000\n"
     ]
    }
   ],
   "source": [
    "class employee():\n",
    "    def __init__(self,name,salary):\n",
    "        self.name=name\n",
    "        self.salary=salary\n",
    "    def display(self):\n",
    "        print('Name-',self.name)\n",
    "        print(\"Salary-\",self.salary)\n",
    "e1=employee(\"John Doe\",50000)\n",
    "e1.display()"
   ]
  },
  {
   "cell_type": "code",
   "execution_count": 49,
   "id": "47281312-6a5d-4798-84c1-4fdcb32fcc10",
   "metadata": {},
   "outputs": [
    {
     "name": "stdout",
     "output_type": "stream",
     "text": [
      "Total balance= 1000\n",
      "Rs 500 was deposited\n",
      "Total balance after deposite= 1500\n",
      "Rs 200 was withdrawn\n",
      "Total balance after withdrwal= 1300\n"
     ]
    }
   ],
   "source": [
    "#Implement a Python class named BankAccount with instance attributes account_number and balance.\n",
    "#Include an initialization method that takes account_number and balance (default value 0) as parameters.\n",
    "#Define methods deposit and withdraw to deposit and withdraw funds from the account.\n",
    "#Create an instance of the BankAccount class with account number \"123456789\" and an initial balance of 1000.\n",
    "#Deposit 500 into the account and then withdraw 200, printing the result of the withdrawal along with the updated balance.\n",
    "\n",
    "class bankacc():\n",
    "    def __init__(self,acc_no,blnc):\n",
    "        self.acc_no=acc_no\n",
    "        self.blnc=blnc\n",
    "        print(\"Total balance=\",self.get_blnc())\n",
    "    def deposit(self,d_amt):\n",
    "        self.blnc+=d_amt\n",
    "        print(\"Rs\",d_amt,\"was deposited\")\n",
    "        print(\"Total balance after deposite=\",self.get_blnc())\n",
    "    def withdraw(self,w_amt):\n",
    "        self.blnc-=w_amt\n",
    "        print(\"Rs\",w_amt,\"was withdrawn\")\n",
    "        print(\"Total balance after withdrwal=\",self.get_blnc())\n",
    "    def get_blnc(self):\n",
    "        return self.blnc\n",
    "b1=bankacc(123456789,1000)\n",
    "b1.deposit(500)\n",
    "b1.withdraw(200)\n",
    "    "
   ]
  },
  {
   "cell_type": "code",
   "execution_count": 58,
   "id": "5c489077-8c93-4724-aebe-e428cd071abe",
   "metadata": {},
   "outputs": [
    {
     "name": "stdout",
     "output_type": "stream",
     "text": [
      "This vehicle is driving\n",
      "This car is driving smoothly\n"
     ]
    }
   ],
   "source": [
    "class vehicle():\n",
    "   # def __init__(self):\n",
    "    #    print(\"vehicle class\")\n",
    "    def drive(self):\n",
    "        print(\"This vehicle is driving\")\n",
    "class car(vehicle):\n",
    "    #def __init__(self):\n",
    "     #   super().__init__()\n",
    "      #  print(\"car class\")\n",
    "    def drive(self):\n",
    "        super().drive()\n",
    "        print(\"This car is driving smoothly\")\n",
    "        \n",
    "c1=car()\n",
    "c1.drive()"
   ]
  },
  {
   "cell_type": "code",
   "execution_count": 67,
   "id": "a1771231-dfa3-491a-b79e-f9e6dc5507c5",
   "metadata": {},
   "outputs": [
    {
     "name": "stdout",
     "output_type": "stream",
     "text": [
      "--animal sound--\n",
      "dog sound bhav bhav\n",
      "--animal sound--\n",
      "cat sound meau meau\n"
     ]
    }
   ],
   "source": [
    "class animal():\n",
    "    def make_sound(self):\n",
    "        print(\"--animal sound--\")\n",
    "class dog(animal):\n",
    "    def make_sound(self):\n",
    "        super().make_sound()\n",
    "        print(\"dog sound bhav bhav\")\n",
    "class cat(animal):\n",
    "    def make_sound(self):\n",
    "        super().make_sound()\n",
    "        print(\"cat sound meau meau\")\n",
    "c1=cat()\n",
    "d1=dog()\n",
    "d1.make_sound()\n",
    "c1.make_sound()\n",
    "        "
   ]
  },
  {
   "cell_type": "code",
   "execution_count": null,
   "id": "907a2c0d-129c-42b9-8f87-82e906c8dd55",
   "metadata": {},
   "outputs": [],
   "source": []
  }
 ],
 "metadata": {
  "kernelspec": {
   "display_name": "Python 3 (ipykernel)",
   "language": "python",
   "name": "python3"
  },
  "language_info": {
   "codemirror_mode": {
    "name": "ipython",
    "version": 3
   },
   "file_extension": ".py",
   "mimetype": "text/x-python",
   "name": "python",
   "nbconvert_exporter": "python",
   "pygments_lexer": "ipython3",
   "version": "3.11.7"
  }
 },
 "nbformat": 4,
 "nbformat_minor": 5
}
